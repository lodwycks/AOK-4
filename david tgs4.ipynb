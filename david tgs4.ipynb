{
 "cells": [
  {
   "cell_type": "markdown",
   "metadata": {},
   "source": [
    "# ALPHA CRONBACH TEST"
   ]
  },
  {
   "cell_type": "code",
   "execution_count": 33,
   "metadata": {},
   "outputs": [],
   "source": [
    "mydata<-read.csv('Data kel7.csv')"
   ]
  },
  {
   "cell_type": "code",
   "execution_count": 34,
   "metadata": {},
   "outputs": [
    {
     "data": {
      "text/html": [
       "<table>\n",
       "<thead><tr><th scope=col>X</th><th scope=col>Q1</th><th scope=col>Q2</th><th scope=col>Q3</th><th scope=col>Q4</th><th scope=col>Q5</th><th scope=col>Q6</th><th scope=col>Q7</th><th scope=col>Q8</th></tr></thead>\n",
       "<tbody>\n",
       "\t<tr><td>Sangat Setuju      </td><td>221                </td><td> 0                 </td><td> 0                 </td><td>310                </td><td> 56                </td><td>199                </td><td> 68                </td><td> 94                </td></tr>\n",
       "\t<tr><td>Setuju             </td><td>254                </td><td> 0                 </td><td> 0                 </td><td>165                </td><td>186                </td><td>235                </td><td>281                </td><td>225                </td></tr>\n",
       "\t<tr><td>Ragu-Ragu          </td><td> 23                </td><td> 0                 </td><td> 0                 </td><td> 18                </td><td>164                </td><td> 49                </td><td>102                </td><td>155                </td></tr>\n",
       "\t<tr><td>Tidak Setuju       </td><td>  1                </td><td> 0                 </td><td> 0                 </td><td>  6                </td><td> 90                </td><td> 15                </td><td> 41                </td><td> 24                </td></tr>\n",
       "\t<tr><td>Sangat Tidak Setuju</td><td>  0                </td><td> 0                 </td><td> 0                 </td><td>  0                </td><td>  3                </td><td>  1                </td><td>  7                </td><td>  1                </td></tr>\n",
       "\t<tr><td>Sangat Tahu        </td><td>  0                </td><td>60                 </td><td>65                 </td><td>  0                </td><td>  0                </td><td>  0                </td><td>  0                </td><td>  0                </td></tr>\n",
       "</tbody>\n",
       "</table>\n"
      ],
      "text/latex": [
       "\\begin{tabular}{r|lllllllll}\n",
       " X & Q1 & Q2 & Q3 & Q4 & Q5 & Q6 & Q7 & Q8\\\\\n",
       "\\hline\n",
       "\t Sangat Setuju       & 221                 &  0                  &  0                  & 310                 &  56                 & 199                 &  68                 &  94                \\\\\n",
       "\t Setuju              & 254                 &  0                  &  0                  & 165                 & 186                 & 235                 & 281                 & 225                \\\\\n",
       "\t Ragu-Ragu           &  23                 &  0                  &  0                  &  18                 & 164                 &  49                 & 102                 & 155                \\\\\n",
       "\t Tidak Setuju        &   1                 &  0                  &  0                  &   6                 &  90                 &  15                 &  41                 &  24                \\\\\n",
       "\t Sangat Tidak Setuju &   0                 &  0                  &  0                  &   0                 &   3                 &   1                 &   7                 &   1                \\\\\n",
       "\t Sangat Tahu         &   0                 & 60                  & 65                  &   0                 &   0                 &   0                 &   0                 &   0                \\\\\n",
       "\\end{tabular}\n"
      ],
      "text/markdown": [
       "\n",
       "| X | Q1 | Q2 | Q3 | Q4 | Q5 | Q6 | Q7 | Q8 |\n",
       "|---|---|---|---|---|---|---|---|---|\n",
       "| Sangat Setuju       | 221                 |  0                  |  0                  | 310                 |  56                 | 199                 |  68                 |  94                 |\n",
       "| Setuju              | 254                 |  0                  |  0                  | 165                 | 186                 | 235                 | 281                 | 225                 |\n",
       "| Ragu-Ragu           |  23                 |  0                  |  0                  |  18                 | 164                 |  49                 | 102                 | 155                 |\n",
       "| Tidak Setuju        |   1                 |  0                  |  0                  |   6                 |  90                 |  15                 |  41                 |  24                 |\n",
       "| Sangat Tidak Setuju |   0                 |  0                  |  0                  |   0                 |   3                 |   1                 |   7                 |   1                 |\n",
       "| Sangat Tahu         |   0                 | 60                  | 65                  |   0                 |   0                 |   0                 |   0                 |   0                 |\n",
       "\n"
      ],
      "text/plain": [
       "  X                   Q1  Q2 Q3 Q4  Q5  Q6  Q7  Q8 \n",
       "1 Sangat Setuju       221  0  0 310  56 199  68  94\n",
       "2 Setuju              254  0  0 165 186 235 281 225\n",
       "3 Ragu-Ragu            23  0  0  18 164  49 102 155\n",
       "4 Tidak Setuju          1  0  0   6  90  15  41  24\n",
       "5 Sangat Tidak Setuju   0  0  0   0   3   1   7   1\n",
       "6 Sangat Tahu           0 60 65   0   0   0   0   0"
      ]
     },
     "metadata": {},
     "output_type": "display_data"
    }
   ],
   "source": [
    "head(mydata)"
   ]
  },
  {
   "cell_type": "code",
   "execution_count": 15,
   "metadata": {},
   "outputs": [
    {
     "name": "stderr",
     "output_type": "stream",
     "text": [
      "Warning message:\n",
      "\"package 'psych' was built under R version 3.6.3\""
     ]
    }
   ],
   "source": [
    "library('psych')"
   ]
  },
  {
   "cell_type": "code",
   "execution_count": 16,
   "metadata": {},
   "outputs": [
    {
     "name": "stderr",
     "output_type": "stream",
     "text": [
      "Warning message in var(if (is.vector(x) || is.factor(x)) x else as.double(x), na.rm = na.rm):\n",
      "\"NAs introduced by coercion\"Warning message in alpha(mydata):\n",
      "\"Item = X had no variance and was deleted\"Warning message in cor.smooth(r):\n",
      "\"Matrix was not positive definite, smoothing was done\"Warning message in alpha(mydata):\n",
      "\"Some items were negatively correlated with the total scale and probably \n",
      "should be reversed.  \n",
      "To do this, run the function again with the 'check.keys=TRUE' option\""
     ]
    },
    {
     "name": "stdout",
     "output_type": "stream",
     "text": [
      "Some items ( Q2 Q3 ) were negatively correlated with the total scale and \n",
      "probably should be reversed.  \n",
      "To do this, run the function again with the 'check.keys=TRUE' option"
     ]
    },
    {
     "name": "stderr",
     "output_type": "stream",
     "text": [
      "Warning message in cor.smooth(R):\n",
      "\"Matrix was not positive definite, smoothing was done\"Warning message in cor.smooth(R):\n",
      "\"Matrix was not positive definite, smoothing was done\"Warning message in cor.smooth(R):\n",
      "\"Matrix was not positive definite, smoothing was done\"Warning message in cor.smooth(R):\n",
      "\"Matrix was not positive definite, smoothing was done\""
     ]
    },
    {
     "data": {
      "text/plain": [
       "\n",
       "Reliability analysis   \n",
       "Call: alpha(x = mydata)\n",
       "\n",
       "  raw_alpha std.alpha G6(smc) average_r S/N  ase mean sd median_r\n",
       "      0.75      0.72    0.99      0.24 2.5 0.11   59 57     0.52\n",
       "\n",
       " lower alpha upper     95% confidence boundaries\n",
       "0.53 0.75 0.97 \n",
       "\n",
       " Reliability if an item is dropped:\n",
       "   raw_alpha std.alpha G6(smc) average_r S/N var.r med.r\n",
       "Q1      0.62      0.58    0.98      0.17 1.4  0.41  0.33\n",
       "Q2      0.85      0.82    0.99      0.40 4.6  0.36  0.63\n",
       "Q3      0.84      0.83    0.98      0.42 5.0  0.32  0.63\n",
       "Q4      0.68      0.64    0.98      0.20 1.8  0.45  0.55\n",
       "Q5      0.71      0.66    0.98      0.22 1.9  0.42  0.50\n",
       "Q6      0.63      0.58    0.98      0.16 1.4  0.39  0.33\n",
       "Q7      0.66      0.60    0.98      0.18 1.5  0.41  0.33\n",
       "Q8      0.66      0.60    0.98      0.18 1.5  0.40  0.33\n",
       "\n",
       " Item statistics \n",
       "   n raw.r std.r r.cor r.drop mean  sd\n",
       "Q1 8  0.94  0.91  0.92   0.89   62 109\n",
       "Q2 8 -0.18 -0.14 -0.18  -0.36   51  90\n",
       "Q3 8 -0.27 -0.23 -0.25  -0.41   51  78\n",
       "Q4 8  0.79  0.74  0.75   0.65   62 115\n",
       "Q5 8  0.67  0.69  0.69   0.56   62  77\n",
       "Q6 8  0.95  0.92  0.93   0.92   62  97\n",
       "Q7 8  0.86  0.87  0.88   0.79   62  96\n",
       "Q8 8  0.86  0.86  0.87   0.79   62  87"
      ]
     },
     "metadata": {},
     "output_type": "display_data"
    },
    {
     "name": "stdout",
     "output_type": "stream",
     "text": [
      "[1] \"Q1 = Desain grafis diminati karena membantu penyampaian informasi masa sekarang\"\n",
      "[1] \"Q2 = Apakah kalian tahu bahwa web design merupakan kategori dari design grafis\"\n",
      "[1] \"Q3 = Apakah kalian mengetahui tentang tipografi\"\n",
      "[1] \"Q4 = Pewarnaan berperan penting dalam pembuatan sebuah karya\"\n",
      "[1] \"Q5 = Membuat desain grafis membutuhkan biaya yang besar\"\n",
      "[1] \"Q6 = Waktu pembuatan dan tahapan pembuatan mempengaruhi harga suatu desain grafis\"\n",
      "[1] \"Q7 = Banyak orang kurang mengerti isi pesan yang terkandung dalam karya desain grafis\"\n",
      "[1] \"Q8 = Sebuah desain grafis dapat disimpan dan dilihat dalam format .pdf\"\n"
     ]
    }
   ],
   "source": [
    "alpha(mydata)\n",
    "print('Q1 = Desain grafis diminati karena membantu penyampaian informasi masa sekarang')\n",
    "print('Q2 = Apakah kalian tahu bahwa web design merupakan kategori dari design grafis')\n",
    "print('Q3 = Apakah kalian mengetahui tentang tipografi')\n",
    "print('Q4 = Pewarnaan berperan penting dalam pembuatan sebuah karya')\n",
    "print('Q5 = Membuat desain grafis membutuhkan biaya yang besar')\n",
    "print('Q6 = Waktu pembuatan dan tahapan pembuatan mempengaruhi harga suatu desain grafis')\n",
    "print('Q7 = Banyak orang kurang mengerti isi pesan yang terkandung dalam karya desain grafis')\n",
    "print('Q8 = Sebuah desain grafis dapat disimpan dan dilihat dalam format .pdf')"
   ]
  },
  {
   "cell_type": "markdown",
   "metadata": {},
   "source": [
    "# T-TEST"
   ]
  },
  {
   "cell_type": "code",
   "execution_count": 4,
   "metadata": {},
   "outputs": [],
   "source": [
    "Q1=read.delim(\"clipboard\")"
   ]
  },
  {
   "cell_type": "code",
   "execution_count": 5,
   "metadata": {},
   "outputs": [
    {
     "data": {
      "text/plain": [
       "\n",
       "\tOne Sample t-test\n",
       "\n",
       "data:  Q1\n",
       "t = 1.4144, df = 7, p-value = 0.8999\n",
       "alternative hypothesis: true mean is less than 8\n",
       "95 percent confidence interval:\n",
       "     -Inf 135.2089\n",
       "sample estimates:\n",
       "mean of x \n",
       "   62.375 \n"
      ]
     },
     "metadata": {},
     "output_type": "display_data"
    },
    {
     "name": "stdout",
     "output_type": "stream",
     "text": [
      "[1] \"Q1 = Desain grafis diminati karena membantu penyampaian informasi masa sekarang\"\n"
     ]
    }
   ],
   "source": [
    "t.test(Q1, mu=8, alternative='less', conf.level=0.95)\n",
    "print('Q1 = Desain grafis diminati karena membantu penyampaian informasi masa sekarang')"
   ]
  },
  {
   "cell_type": "code",
   "execution_count": 6,
   "metadata": {},
   "outputs": [],
   "source": [
    "Q2=read.delim(\"clipboard\")"
   ]
  },
  {
   "cell_type": "code",
   "execution_count": 7,
   "metadata": {},
   "outputs": [
    {
     "data": {
      "text/plain": [
       "\n",
       "\tOne Sample t-test\n",
       "\n",
       "data:  Q2\n",
       "t = 1.3364, df = 7, p-value = 0.8884\n",
       "alternative hypothesis: true mean is less than 8\n",
       "95 percent confidence interval:\n",
       "     -Inf 111.3551\n",
       "sample estimates:\n",
       "mean of x \n",
       "    50.75 \n"
      ]
     },
     "metadata": {},
     "output_type": "display_data"
    },
    {
     "name": "stdout",
     "output_type": "stream",
     "text": [
      "[1] \"Q2 = Apakah kalian tahu bahwa web design merupakan kategori dari design grafis\"\n"
     ]
    }
   ],
   "source": [
    "t.test(Q2, mu=8, alternative='less', conf.level=0.95)\n",
    "print('Q2 = Apakah kalian tahu bahwa web design merupakan kategori dari design grafis')"
   ]
  },
  {
   "cell_type": "code",
   "execution_count": 8,
   "metadata": {},
   "outputs": [],
   "source": [
    "Q3=read.delim(\"clipboard\")"
   ]
  },
  {
   "cell_type": "code",
   "execution_count": 9,
   "metadata": {},
   "outputs": [
    {
     "data": {
      "text/plain": [
       "\n",
       "\tOne Sample t-test\n",
       "\n",
       "data:  Q3\n",
       "t = 1.5637, df = 7, p-value = 0.9191\n",
       "alternative hypothesis: true mean is less than 8\n",
       "95 percent confidence interval:\n",
       "     -Inf 102.8212\n",
       "sample estimates:\n",
       "mean of x \n",
       "   50.875 \n"
      ]
     },
     "metadata": {},
     "output_type": "display_data"
    },
    {
     "name": "stdout",
     "output_type": "stream",
     "text": [
      "[1] \"Q3 = Apakah kalian mengetahui tentang tipografi\"\n"
     ]
    }
   ],
   "source": [
    "t.test(Q3, mu=8, alternative='less', conf.level=0.95)\n",
    "print('Q3 = Apakah kalian mengetahui tentang tipografi')"
   ]
  },
  {
   "cell_type": "code",
   "execution_count": 10,
   "metadata": {},
   "outputs": [],
   "source": [
    "Q4=read.delim(\"clipboard\")"
   ]
  },
  {
   "cell_type": "code",
   "execution_count": 11,
   "metadata": {},
   "outputs": [
    {
     "data": {
      "text/plain": [
       "\n",
       "\tOne Sample t-test\n",
       "\n",
       "data:  Q4\n",
       "t = 1.3375, df = 7, p-value = 0.8886\n",
       "alternative hypothesis: true mean is less than 8\n",
       "95 percent confidence interval:\n",
       "     -Inf 139.3997\n",
       "sample estimates:\n",
       "mean of x \n",
       "   62.375 \n"
      ]
     },
     "metadata": {},
     "output_type": "display_data"
    },
    {
     "name": "stdout",
     "output_type": "stream",
     "text": [
      "[1] \"Q4 = Pewarnaan berperan penting dalam pembuatan sebuah karya\"\n"
     ]
    }
   ],
   "source": [
    "t.test(Q4, mu=8, alternative='less', conf.level=0.95)\n",
    "print('Q4 = Pewarnaan berperan penting dalam pembuatan sebuah karya')"
   ]
  },
  {
   "cell_type": "code",
   "execution_count": 12,
   "metadata": {},
   "outputs": [],
   "source": [
    "Q5=read.delim(\"clipboard\")"
   ]
  },
  {
   "cell_type": "code",
   "execution_count": 13,
   "metadata": {},
   "outputs": [
    {
     "data": {
      "text/plain": [
       "\n",
       "\tOne Sample t-test\n",
       "\n",
       "data:  Q5\n",
       "t = 1.9947, df = 7, p-value = 0.9569\n",
       "alternative hypothesis: true mean is less than 8\n",
       "95 percent confidence interval:\n",
       "     -Inf 114.0199\n",
       "sample estimates:\n",
       "mean of x \n",
       "   62.375 \n"
      ]
     },
     "metadata": {},
     "output_type": "display_data"
    },
    {
     "name": "stdout",
     "output_type": "stream",
     "text": [
      "[1] \"Q5 = Membuat desain grafis membutuhkan biaya yang besar\"\n"
     ]
    }
   ],
   "source": [
    "t.test(Q5, mu=8, alternative='less', conf.level=0.95)\n",
    "print('Q5 = Membuat desain grafis membutuhkan biaya yang besar')"
   ]
  },
  {
   "cell_type": "code",
   "execution_count": 14,
   "metadata": {},
   "outputs": [],
   "source": [
    "Q6=read.delim(\"clipboard\")"
   ]
  },
  {
   "cell_type": "code",
   "execution_count": 15,
   "metadata": {},
   "outputs": [
    {
     "data": {
      "text/plain": [
       "\n",
       "\tOne Sample t-test\n",
       "\n",
       "data:  Q6\n",
       "t = 1.58, df = 7, p-value = 0.9209\n",
       "alternative hypothesis: true mean is less than 8\n",
       "95 percent confidence interval:\n",
       "     -Inf 127.5779\n",
       "sample estimates:\n",
       "mean of x \n",
       "   62.375 \n"
      ]
     },
     "metadata": {},
     "output_type": "display_data"
    },
    {
     "name": "stdout",
     "output_type": "stream",
     "text": [
      "[1] \"Q6 = Waktu pembuatan dan tahapan pembuatan mempengaruhi harga suatu desain grafis\"\n"
     ]
    }
   ],
   "source": [
    "t.test(Q6, mu=8, alternative='less', conf.level=0.95)\n",
    "print('Q6 = Waktu pembuatan dan tahapan pembuatan mempengaruhi harga suatu desain grafis')"
   ]
  },
  {
   "cell_type": "code",
   "execution_count": 16,
   "metadata": {},
   "outputs": [],
   "source": [
    "Q7=read.delim(\"clipboard\")"
   ]
  },
  {
   "cell_type": "code",
   "execution_count": 17,
   "metadata": {},
   "outputs": [
    {
     "data": {
      "text/plain": [
       "\n",
       "\tOne Sample t-test\n",
       "\n",
       "data:  Q7\n",
       "t = 1.601, df = 7, p-value = 0.9233\n",
       "alternative hypothesis: true mean is less than 8\n",
       "95 percent confidence interval:\n",
       "     -Inf 126.7199\n",
       "sample estimates:\n",
       "mean of x \n",
       "   62.375 \n"
      ]
     },
     "metadata": {},
     "output_type": "display_data"
    },
    {
     "name": "stdout",
     "output_type": "stream",
     "text": [
      "[1] \"Q7 = Banyak orang kurang mengerti isi pesan yang terkandung dalam karya desain grafis\"\n"
     ]
    }
   ],
   "source": [
    "t.test(Q7, mu=8, alternative='less', conf.level=0.95)\n",
    "print('Q7 = Banyak orang kurang mengerti isi pesan yang terkandung dalam karya desain grafis')"
   ]
  },
  {
   "cell_type": "code",
   "execution_count": 18,
   "metadata": {},
   "outputs": [],
   "source": [
    "Q8=read.delim(\"clipboard\")"
   ]
  },
  {
   "cell_type": "code",
   "execution_count": 19,
   "metadata": {},
   "outputs": [
    {
     "data": {
      "text/plain": [
       "\n",
       "\tOne Sample t-test\n",
       "\n",
       "data:  Q8\n",
       "t = 1.7685, df = 7, p-value = 0.9399\n",
       "alternative hypothesis: true mean is less than 8\n",
       "95 percent confidence interval:\n",
       "     -Inf 120.6258\n",
       "sample estimates:\n",
       "mean of x \n",
       "   62.375 \n"
      ]
     },
     "metadata": {},
     "output_type": "display_data"
    },
    {
     "name": "stdout",
     "output_type": "stream",
     "text": [
      "[1] \"Q8 = Sebuah desain grafis dapat disimpan dan dilihat dalam format .pdf\"\n"
     ]
    }
   ],
   "source": [
    "t.test(Q8, mu=8, alternative='less', conf.level=0.95)\n",
    "print('Q8 = Sebuah desain grafis dapat disimpan dan dilihat dalam format .pdf')"
   ]
  },
  {
   "cell_type": "markdown",
   "metadata": {},
   "source": [
    "# PRINCIPAL COMPONENT ANALYSIS"
   ]
  },
  {
   "cell_type": "code",
   "execution_count": 20,
   "metadata": {},
   "outputs": [],
   "source": [
    "mydata<-read.csv('Data kel7.csv')"
   ]
  },
  {
   "cell_type": "code",
   "execution_count": 21,
   "metadata": {},
   "outputs": [
    {
     "data": {
      "text/html": [
       "<table>\n",
       "<thead><tr><th scope=col>X</th><th scope=col>Q1</th><th scope=col>Q2</th><th scope=col>Q3</th><th scope=col>Q4</th><th scope=col>Q5</th><th scope=col>Q6</th><th scope=col>Q7</th><th scope=col>Q8</th></tr></thead>\n",
       "<tbody>\n",
       "\t<tr><td>Sangat Setuju      </td><td>221                </td><td>  0                </td><td>  0                </td><td>310                </td><td> 56                </td><td>199                </td><td> 68                </td><td> 94                </td></tr>\n",
       "\t<tr><td>Setuju             </td><td>254                </td><td>  0                </td><td>  0                </td><td>165                </td><td>186                </td><td>235                </td><td>281                </td><td>225                </td></tr>\n",
       "\t<tr><td>Ragu-Ragu          </td><td> 23                </td><td>  0                </td><td>  0                </td><td> 18                </td><td>164                </td><td> 49                </td><td>102                </td><td>155                </td></tr>\n",
       "\t<tr><td>Tidak Setuju       </td><td>  1                </td><td>  0                </td><td>  0                </td><td>  6                </td><td> 90                </td><td> 15                </td><td> 41                </td><td> 24                </td></tr>\n",
       "\t<tr><td>Sangat Tidak Setuju</td><td>  0                </td><td>  0                </td><td>  0                </td><td>  0                </td><td>  3                </td><td>  1                </td><td>  7                </td><td>  1                </td></tr>\n",
       "\t<tr><td>Sangat Tahu        </td><td>  0                </td><td> 60                </td><td> 65                </td><td>  0                </td><td>  0                </td><td>  0                </td><td>  0                </td><td>  0                </td></tr>\n",
       "\t<tr><td>Tahu               </td><td>  0                </td><td>258                </td><td>178                </td><td>  0                </td><td>  0                </td><td>  0                </td><td>  0                </td><td>  0                </td></tr>\n",
       "\t<tr><td>Tidak Tahu         </td><td>  0                </td><td> 88                </td><td>164                </td><td>  0                </td><td>  0                </td><td>  0                </td><td>  0                </td><td>  0                </td></tr>\n",
       "</tbody>\n",
       "</table>\n"
      ],
      "text/latex": [
       "\\begin{tabular}{r|lllllllll}\n",
       " X & Q1 & Q2 & Q3 & Q4 & Q5 & Q6 & Q7 & Q8\\\\\n",
       "\\hline\n",
       "\t Sangat Setuju       & 221                 &   0                 &   0                 & 310                 &  56                 & 199                 &  68                 &  94                \\\\\n",
       "\t Setuju              & 254                 &   0                 &   0                 & 165                 & 186                 & 235                 & 281                 & 225                \\\\\n",
       "\t Ragu-Ragu           &  23                 &   0                 &   0                 &  18                 & 164                 &  49                 & 102                 & 155                \\\\\n",
       "\t Tidak Setuju        &   1                 &   0                 &   0                 &   6                 &  90                 &  15                 &  41                 &  24                \\\\\n",
       "\t Sangat Tidak Setuju &   0                 &   0                 &   0                 &   0                 &   3                 &   1                 &   7                 &   1                \\\\\n",
       "\t Sangat Tahu         &   0                 &  60                 &  65                 &   0                 &   0                 &   0                 &   0                 &   0                \\\\\n",
       "\t Tahu                &   0                 & 258                 & 178                 &   0                 &   0                 &   0                 &   0                 &   0                \\\\\n",
       "\t Tidak Tahu          &   0                 &  88                 & 164                 &   0                 &   0                 &   0                 &   0                 &   0                \\\\\n",
       "\\end{tabular}\n"
      ],
      "text/markdown": [
       "\n",
       "| X | Q1 | Q2 | Q3 | Q4 | Q5 | Q6 | Q7 | Q8 |\n",
       "|---|---|---|---|---|---|---|---|---|\n",
       "| Sangat Setuju       | 221                 |   0                 |   0                 | 310                 |  56                 | 199                 |  68                 |  94                 |\n",
       "| Setuju              | 254                 |   0                 |   0                 | 165                 | 186                 | 235                 | 281                 | 225                 |\n",
       "| Ragu-Ragu           |  23                 |   0                 |   0                 |  18                 | 164                 |  49                 | 102                 | 155                 |\n",
       "| Tidak Setuju        |   1                 |   0                 |   0                 |   6                 |  90                 |  15                 |  41                 |  24                 |\n",
       "| Sangat Tidak Setuju |   0                 |   0                 |   0                 |   0                 |   3                 |   1                 |   7                 |   1                 |\n",
       "| Sangat Tahu         |   0                 |  60                 |  65                 |   0                 |   0                 |   0                 |   0                 |   0                 |\n",
       "| Tahu                |   0                 | 258                 | 178                 |   0                 |   0                 |   0                 |   0                 |   0                 |\n",
       "| Tidak Tahu          |   0                 |  88                 | 164                 |   0                 |   0                 |   0                 |   0                 |   0                 |\n",
       "\n"
      ],
      "text/plain": [
       "  X                   Q1  Q2  Q3  Q4  Q5  Q6  Q7  Q8 \n",
       "1 Sangat Setuju       221   0   0 310  56 199  68  94\n",
       "2 Setuju              254   0   0 165 186 235 281 225\n",
       "3 Ragu-Ragu            23   0   0  18 164  49 102 155\n",
       "4 Tidak Setuju          1   0   0   6  90  15  41  24\n",
       "5 Sangat Tidak Setuju   0   0   0   0   3   1   7   1\n",
       "6 Sangat Tahu           0  60  65   0   0   0   0   0\n",
       "7 Tahu                  0 258 178   0   0   0   0   0\n",
       "8 Tidak Tahu            0  88 164   0   0   0   0   0"
      ]
     },
     "metadata": {},
     "output_type": "display_data"
    }
   ],
   "source": [
    "mydata"
   ]
  },
  {
   "cell_type": "code",
   "execution_count": 22,
   "metadata": {},
   "outputs": [
    {
     "name": "stderr",
     "output_type": "stream",
     "text": [
      "The following objects are masked _by_ .GlobalEnv:\n",
      "\n",
      "    Q1, Q2, Q3, Q4, Q5, Q6, Q7, Q8\n",
      "\n"
     ]
    }
   ],
   "source": [
    "attach(mydata)"
   ]
  },
  {
   "cell_type": "code",
   "execution_count": 23,
   "metadata": {},
   "outputs": [],
   "source": [
    "# Define Variables\n",
    "x <- cbind(Q1,Q2,Q3,Q4,Q5,Q6,Q7,Q8)"
   ]
  },
  {
   "cell_type": "code",
   "execution_count": 24,
   "metadata": {},
   "outputs": [
    {
     "data": {
      "text/plain": [
       "       Q1               Q2               Q3               Q4        \n",
       " Min.   :  0.00   Min.   :  0.00   Min.   :  0.00   Min.   :  0.00  \n",
       " 1st Qu.:  0.00   1st Qu.:  0.00   1st Qu.:  0.00   1st Qu.:  0.00  \n",
       " Median :  0.50   Median :  0.00   Median :  0.00   Median :  3.00  \n",
       " Mean   : 62.38   Mean   : 50.75   Mean   : 50.88   Mean   : 62.38  \n",
       " 3rd Qu.: 72.50   3rd Qu.: 67.00   3rd Qu.: 89.75   3rd Qu.: 54.75  \n",
       " Max.   :254.00   Max.   :258.00   Max.   :178.00   Max.   :310.00  \n",
       "       Q5               Q6               Q7               Q8        \n",
       " Min.   :  0.00   Min.   :  0.00   Min.   :  0.00   Min.   :  0.00  \n",
       " 1st Qu.:  0.00   1st Qu.:  0.00   1st Qu.:  0.00   1st Qu.:  0.00  \n",
       " Median : 29.50   Median :  8.00   Median : 24.00   Median : 12.50  \n",
       " Mean   : 62.38   Mean   : 62.38   Mean   : 62.38   Mean   : 62.38  \n",
       " 3rd Qu.:108.50   3rd Qu.: 86.50   3rd Qu.: 76.50   3rd Qu.:109.25  \n",
       " Max.   :186.00   Max.   :235.00   Max.   :281.00   Max.   :225.00  "
      ]
     },
     "metadata": {},
     "output_type": "display_data"
    },
    {
     "data": {
      "text/html": [
       "<table>\n",
       "<thead><tr><th></th><th scope=col>Q1</th><th scope=col>Q2</th><th scope=col>Q3</th><th scope=col>Q4</th><th scope=col>Q5</th><th scope=col>Q6</th><th scope=col>Q7</th><th scope=col>Q8</th></tr></thead>\n",
       "<tbody>\n",
       "\t<tr><th scope=row>Q1</th><td> 1.0000000</td><td>-0.3677315</td><td>-0.4300853</td><td> 0.9107786</td><td> 0.5513695</td><td> 0.9945372</td><td> 0.7886658</td><td> 0.7612506</td></tr>\n",
       "\t<tr><th scope=row>Q2</th><td>-0.3677315</td><td> 1.0000000</td><td> 0.8877039</td><td>-0.3477240</td><td>-0.5186058</td><td>-0.4107693</td><td>-0.4162463</td><td>-0.4597934</td></tr>\n",
       "\t<tr><th scope=row>Q3</th><td>-0.4300853</td><td> 0.8877039</td><td> 1.0000000</td><td>-0.4066852</td><td>-0.6065423</td><td>-0.4804207</td><td>-0.4868263</td><td>-0.5377575</td></tr>\n",
       "\t<tr><th scope=row>Q4</th><td> 0.9107786</td><td>-0.3477240</td><td>-0.4066852</td><td> 1.0000000</td><td> 0.3289798</td><td> 0.8973653</td><td> 0.4966442</td><td> 0.5439168</td></tr>\n",
       "\t<tr><th scope=row>Q5</th><td> 0.5513695</td><td>-0.5186058</td><td>-0.6065423</td><td> 0.3289798</td><td> 1.0000000</td><td> 0.6303849</td><td> 0.8754584</td><td> 0.9283556</td></tr>\n",
       "\t<tr><th scope=row>Q6</th><td> 0.9945372</td><td>-0.4107693</td><td>-0.4804207</td><td> 0.8973653</td><td> 0.6303849</td><td> 1.0000000</td><td> 0.8259379</td><td> 0.8169973</td></tr>\n",
       "\t<tr><th scope=row>Q7</th><td> 0.7886658</td><td>-0.4162463</td><td>-0.4868263</td><td> 0.4966442</td><td> 0.8754584</td><td> 0.8259379</td><td> 1.0000000</td><td> 0.9455625</td></tr>\n",
       "\t<tr><th scope=row>Q8</th><td> 0.7612506</td><td>-0.4597934</td><td>-0.5377575</td><td> 0.5439168</td><td> 0.9283556</td><td> 0.8169973</td><td> 0.9455625</td><td> 1.0000000</td></tr>\n",
       "</tbody>\n",
       "</table>\n"
      ],
      "text/latex": [
       "\\begin{tabular}{r|llllllll}\n",
       "  & Q1 & Q2 & Q3 & Q4 & Q5 & Q6 & Q7 & Q8\\\\\n",
       "\\hline\n",
       "\tQ1 &  1.0000000 & -0.3677315 & -0.4300853 &  0.9107786 &  0.5513695 &  0.9945372 &  0.7886658 &  0.7612506\\\\\n",
       "\tQ2 & -0.3677315 &  1.0000000 &  0.8877039 & -0.3477240 & -0.5186058 & -0.4107693 & -0.4162463 & -0.4597934\\\\\n",
       "\tQ3 & -0.4300853 &  0.8877039 &  1.0000000 & -0.4066852 & -0.6065423 & -0.4804207 & -0.4868263 & -0.5377575\\\\\n",
       "\tQ4 &  0.9107786 & -0.3477240 & -0.4066852 &  1.0000000 &  0.3289798 &  0.8973653 &  0.4966442 &  0.5439168\\\\\n",
       "\tQ5 &  0.5513695 & -0.5186058 & -0.6065423 &  0.3289798 &  1.0000000 &  0.6303849 &  0.8754584 &  0.9283556\\\\\n",
       "\tQ6 &  0.9945372 & -0.4107693 & -0.4804207 &  0.8973653 &  0.6303849 &  1.0000000 &  0.8259379 &  0.8169973\\\\\n",
       "\tQ7 &  0.7886658 & -0.4162463 & -0.4868263 &  0.4966442 &  0.8754584 &  0.8259379 &  1.0000000 &  0.9455625\\\\\n",
       "\tQ8 &  0.7612506 & -0.4597934 & -0.5377575 &  0.5439168 &  0.9283556 &  0.8169973 &  0.9455625 &  1.0000000\\\\\n",
       "\\end{tabular}\n"
      ],
      "text/markdown": [
       "\n",
       "| <!--/--> | Q1 | Q2 | Q3 | Q4 | Q5 | Q6 | Q7 | Q8 |\n",
       "|---|---|---|---|---|---|---|---|---|\n",
       "| Q1 |  1.0000000 | -0.3677315 | -0.4300853 |  0.9107786 |  0.5513695 |  0.9945372 |  0.7886658 |  0.7612506 |\n",
       "| Q2 | -0.3677315 |  1.0000000 |  0.8877039 | -0.3477240 | -0.5186058 | -0.4107693 | -0.4162463 | -0.4597934 |\n",
       "| Q3 | -0.4300853 |  0.8877039 |  1.0000000 | -0.4066852 | -0.6065423 | -0.4804207 | -0.4868263 | -0.5377575 |\n",
       "| Q4 |  0.9107786 | -0.3477240 | -0.4066852 |  1.0000000 |  0.3289798 |  0.8973653 |  0.4966442 |  0.5439168 |\n",
       "| Q5 |  0.5513695 | -0.5186058 | -0.6065423 |  0.3289798 |  1.0000000 |  0.6303849 |  0.8754584 |  0.9283556 |\n",
       "| Q6 |  0.9945372 | -0.4107693 | -0.4804207 |  0.8973653 |  0.6303849 |  1.0000000 |  0.8259379 |  0.8169973 |\n",
       "| Q7 |  0.7886658 | -0.4162463 | -0.4868263 |  0.4966442 |  0.8754584 |  0.8259379 |  1.0000000 |  0.9455625 |\n",
       "| Q8 |  0.7612506 | -0.4597934 | -0.5377575 |  0.5439168 |  0.9283556 |  0.8169973 |  0.9455625 |  1.0000000 |\n",
       "\n"
      ],
      "text/plain": [
       "   Q1         Q2         Q3         Q4         Q5         Q6         Q7        \n",
       "Q1  1.0000000 -0.3677315 -0.4300853  0.9107786  0.5513695  0.9945372  0.7886658\n",
       "Q2 -0.3677315  1.0000000  0.8877039 -0.3477240 -0.5186058 -0.4107693 -0.4162463\n",
       "Q3 -0.4300853  0.8877039  1.0000000 -0.4066852 -0.6065423 -0.4804207 -0.4868263\n",
       "Q4  0.9107786 -0.3477240 -0.4066852  1.0000000  0.3289798  0.8973653  0.4966442\n",
       "Q5  0.5513695 -0.5186058 -0.6065423  0.3289798  1.0000000  0.6303849  0.8754584\n",
       "Q6  0.9945372 -0.4107693 -0.4804207  0.8973653  0.6303849  1.0000000  0.8259379\n",
       "Q7  0.7886658 -0.4162463 -0.4868263  0.4966442  0.8754584  0.8259379  1.0000000\n",
       "Q8  0.7612506 -0.4597934 -0.5377575  0.5439168  0.9283556  0.8169973  0.9455625\n",
       "   Q8        \n",
       "Q1  0.7612506\n",
       "Q2 -0.4597934\n",
       "Q3 -0.5377575\n",
       "Q4  0.5439168\n",
       "Q5  0.9283556\n",
       "Q6  0.8169973\n",
       "Q7  0.9455625\n",
       "Q8  1.0000000"
      ]
     },
     "metadata": {},
     "output_type": "display_data"
    }
   ],
   "source": [
    "# Descriptive statistics\n",
    "summary(x)\n",
    "cor(x)"
   ]
  },
  {
   "cell_type": "code",
   "execution_count": 25,
   "metadata": {},
   "outputs": [],
   "source": [
    "# Principal Component Analysis\n",
    "pcal <-princomp(x, score=TRUE, cor=TRUE)"
   ]
  },
  {
   "cell_type": "code",
   "execution_count": 26,
   "metadata": {},
   "outputs": [
    {
     "data": {
      "text/plain": [
       "\n",
       "Loadings:\n",
       "   Comp.1 Comp.2 Comp.3 Comp.4 Comp.5 Comp.6 Comp.7 Comp.8\n",
       "Q1  0.382  0.347  0.174  0.217  0.181         0.559  0.553\n",
       "Q2 -0.269  0.570 -0.356 -0.523  0.449                     \n",
       "Q3 -0.299  0.530 -0.298  0.414 -0.597  0.117              \n",
       "Q4  0.322  0.371  0.490 -0.356 -0.296        -0.526  0.150\n",
       "Q5  0.355 -0.220 -0.470 -0.396 -0.305  0.569  0.166       \n",
       "Q6  0.398  0.293  0.123                       0.243 -0.813\n",
       "Q7  0.386        -0.386  0.446  0.392  0.138 -0.568       \n",
       "Q8  0.394        -0.360 -0.134 -0.262 -0.791              \n",
       "\n",
       "               Comp.1 Comp.2 Comp.3 Comp.4 Comp.5 Comp.6 Comp.7 Comp.8\n",
       "SS loadings     1.000  1.000  1.000  1.000  1.000  1.000  1.000  1.000\n",
       "Proportion Var  0.125  0.125  0.125  0.125  0.125  0.125  0.125  0.125\n",
       "Cumulative Var  0.125  0.250  0.375  0.500  0.625  0.750  0.875  1.000"
      ]
     },
     "metadata": {},
     "output_type": "display_data"
    }
   ],
   "source": [
    "# Loading of Principal Components\n",
    "loadings(pcal)"
   ]
  },
  {
   "cell_type": "code",
   "execution_count": 27,
   "metadata": {},
   "outputs": [
    {
     "data": {
      "image/png": "[encoded data removed]",
      "text/plain": [
       "Plot with title \"pcal\""
      ]
     },
     "metadata": {},
     "output_type": "display_data"
    },
    {
     "data": {
      "image/png": "[encoded data removed]",
      "text/plain": [
       "Plot with title \"scree plot\""
      ]
     },
     "metadata": {},
     "output_type": "display_data"
    }
   ],
   "source": [
    "# Scree plot of eigenvalues\n",
    "plot(pcal)\n",
    "screeplot(pcal, type=\"line\", main=\"scree plot\")"
   ]
  },
  {
   "cell_type": "code",
   "execution_count": 28,
   "metadata": {},
   "outputs": [
    {
     "data": {
      "image/png": "[encoded data removed]",
      "text/plain": [
       "plot without title"
      ]
     },
     "metadata": {},
     "output_type": "display_data"
    }
   ],
   "source": [
    "# Biplot of score variables\n",
    "biplot(pcal)"
   ]
  },
  {
   "cell_type": "code",
   "execution_count": 29,
   "metadata": {},
   "outputs": [
    {
     "data": {
      "text/html": [
       "<table>\n",
       "<thead><tr><th scope=col>Comp.1</th><th scope=col>Comp.2</th><th scope=col>Comp.3</th><th scope=col>Comp.4</th><th scope=col>Comp.5</th><th scope=col>Comp.6</th><th scope=col>Comp.7</th><th scope=col>Comp.8</th></tr></thead>\n",
       "<tbody>\n",
       "\t<tr><td> 2.4512758   </td><td> 1.1452737   </td><td> 1.88258290  </td><td>-0.3113581   </td><td>-0.19024975  </td><td>-0.003660429 </td><td>-0.0001800413</td><td>-2.289835e-16</td></tr>\n",
       "\t<tr><td> 4.4880960   </td><td> 0.6023907   </td><td>-1.01450336  </td><td> 0.4009270   </td><td> 0.25212605  </td><td> 0.022896153 </td><td> 0.0002456958</td><td>-4.163336e-16</td></tr>\n",
       "\t<tr><td> 1.1505015   </td><td>-1.3269050   </td><td>-1.10750023  </td><td>-0.4414836   </td><td>-0.36585195  </td><td>-0.172942021 </td><td>-0.0002432249</td><td>-2.220446e-16</td></tr>\n",
       "\t<tr><td>-0.3777178   </td><td>-1.3674700   </td><td> 0.07817451  </td><td>-0.1624801   </td><td> 0.07062333  </td><td> 0.369631161 </td><td> 0.0003912155</td><td> 6.071532e-16</td></tr>\n",
       "\t<tr><td>-1.1460489   </td><td>-1.1912838   </td><td> 0.84529469  </td><td> 0.1885211   </td><td> 0.36838802  </td><td>-0.162647789 </td><td>-0.0090925297</td><td>-5.016820e-15</td></tr>\n",
       "\t<tr><td>-1.6583603   </td><td>-0.3106149   </td><td> 0.37886168  </td><td> 0.1709839   </td><td> 0.13658908  </td><td>-0.104863001 </td><td> 0.0143968709</td><td> 8.493206e-15</td></tr>\n",
       "\t<tr><td>-2.7528103   </td><td> 1.8476548   </td><td>-0.91775467  </td><td>-0.4077221   </td><td> 0.25800060  </td><td> 0.007258501 </td><td>-0.0022246019</td><td>-2.275957e-15</td></tr>\n",
       "\t<tr><td>-2.1549361   </td><td> 0.6009543   </td><td>-0.14515551  </td><td> 0.5626119   </td><td>-0.52962538  </td><td> 0.044327425 </td><td>-0.0032933845</td><td>-9.436896e-16</td></tr>\n",
       "</tbody>\n",
       "</table>\n"
      ],
      "text/latex": [
       "\\begin{tabular}{llllllll}\n",
       " Comp.1 & Comp.2 & Comp.3 & Comp.4 & Comp.5 & Comp.6 & Comp.7 & Comp.8\\\\\n",
       "\\hline\n",
       "\t  2.4512758    &  1.1452737    &  1.88258290   & -0.3113581    & -0.19024975   & -0.003660429  & -0.0001800413 & -2.289835e-16\\\\\n",
       "\t  4.4880960    &  0.6023907    & -1.01450336   &  0.4009270    &  0.25212605   &  0.022896153  &  0.0002456958 & -4.163336e-16\\\\\n",
       "\t  1.1505015    & -1.3269050    & -1.10750023   & -0.4414836    & -0.36585195   & -0.172942021  & -0.0002432249 & -2.220446e-16\\\\\n",
       "\t -0.3777178    & -1.3674700    &  0.07817451   & -0.1624801    &  0.07062333   &  0.369631161  &  0.0003912155 &  6.071532e-16\\\\\n",
       "\t -1.1460489    & -1.1912838    &  0.84529469   &  0.1885211    &  0.36838802   & -0.162647789  & -0.0090925297 & -5.016820e-15\\\\\n",
       "\t -1.6583603    & -0.3106149    &  0.37886168   &  0.1709839    &  0.13658908   & -0.104863001  &  0.0143968709 &  8.493206e-15\\\\\n",
       "\t -2.7528103    &  1.8476548    & -0.91775467   & -0.4077221    &  0.25800060   &  0.007258501  & -0.0022246019 & -2.275957e-15\\\\\n",
       "\t -2.1549361    &  0.6009543    & -0.14515551   &  0.5626119    & -0.52962538   &  0.044327425  & -0.0032933845 & -9.436896e-16\\\\\n",
       "\\end{tabular}\n"
      ],
      "text/markdown": [
       "\n",
       "| Comp.1 | Comp.2 | Comp.3 | Comp.4 | Comp.5 | Comp.6 | Comp.7 | Comp.8 |\n",
       "|---|---|---|---|---|---|---|---|\n",
       "|  2.4512758    |  1.1452737    |  1.88258290   | -0.3113581    | -0.19024975   | -0.003660429  | -0.0001800413 | -2.289835e-16 |\n",
       "|  4.4880960    |  0.6023907    | -1.01450336   |  0.4009270    |  0.25212605   |  0.022896153  |  0.0002456958 | -4.163336e-16 |\n",
       "|  1.1505015    | -1.3269050    | -1.10750023   | -0.4414836    | -0.36585195   | -0.172942021  | -0.0002432249 | -2.220446e-16 |\n",
       "| -0.3777178    | -1.3674700    |  0.07817451   | -0.1624801    |  0.07062333   |  0.369631161  |  0.0003912155 |  6.071532e-16 |\n",
       "| -1.1460489    | -1.1912838    |  0.84529469   |  0.1885211    |  0.36838802   | -0.162647789  | -0.0090925297 | -5.016820e-15 |\n",
       "| -1.6583603    | -0.3106149    |  0.37886168   |  0.1709839    |  0.13658908   | -0.104863001  |  0.0143968709 |  8.493206e-15 |\n",
       "| -2.7528103    |  1.8476548    | -0.91775467   | -0.4077221    |  0.25800060   |  0.007258501  | -0.0022246019 | -2.275957e-15 |\n",
       "| -2.1549361    |  0.6009543    | -0.14515551   |  0.5626119    | -0.52962538   |  0.044327425  | -0.0032933845 | -9.436896e-16 |\n",
       "\n"
      ],
      "text/plain": [
       "     Comp.1     Comp.2     Comp.3      Comp.4     Comp.5      Comp.6      \n",
       "[1,]  2.4512758  1.1452737  1.88258290 -0.3113581 -0.19024975 -0.003660429\n",
       "[2,]  4.4880960  0.6023907 -1.01450336  0.4009270  0.25212605  0.022896153\n",
       "[3,]  1.1505015 -1.3269050 -1.10750023 -0.4414836 -0.36585195 -0.172942021\n",
       "[4,] -0.3777178 -1.3674700  0.07817451 -0.1624801  0.07062333  0.369631161\n",
       "[5,] -1.1460489 -1.1912838  0.84529469  0.1885211  0.36838802 -0.162647789\n",
       "[6,] -1.6583603 -0.3106149  0.37886168  0.1709839  0.13658908 -0.104863001\n",
       "[7,] -2.7528103  1.8476548 -0.91775467 -0.4077221  0.25800060  0.007258501\n",
       "[8,] -2.1549361  0.6009543 -0.14515551  0.5626119 -0.52962538  0.044327425\n",
       "     Comp.7        Comp.8       \n",
       "[1,] -0.0001800413 -2.289835e-16\n",
       "[2,]  0.0002456958 -4.163336e-16\n",
       "[3,] -0.0002432249 -2.220446e-16\n",
       "[4,]  0.0003912155  6.071532e-16\n",
       "[5,] -0.0090925297 -5.016820e-15\n",
       "[6,]  0.0143968709  8.493206e-15\n",
       "[7,] -0.0022246019 -2.275957e-15\n",
       "[8,] -0.0032933845 -9.436896e-16"
      ]
     },
     "metadata": {},
     "output_type": "display_data"
    }
   ],
   "source": [
    "# Scores of the components\n",
    "pcal$scores[1:8,]"
   ]
  },
  {
   "cell_type": "code",
   "execution_count": null,
   "metadata": {},
   "outputs": [],
   "source": []
  }
 ],
 "metadata": {
  "kernelspec": {
   "display_name": "R",
   "language": "R",
   "name": "ir"
  },
  "language_info": {
   "codemirror_mode": "r",
   "file_extension": ".r",
   "mimetype": "text/x-r-source",
   "name": "R",
   "pygments_lexer": "r",
   "version": "3.6.1"
  }
 },
 "nbformat": 4,
 "nbformat_minor": 4
}
